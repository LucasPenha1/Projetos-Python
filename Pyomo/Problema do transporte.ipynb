{
 "cells": [
  {
   "cell_type": "markdown",
   "id": "938401b1",
   "metadata": {},
   "source": [
    "(Belfiore e Fávero) A empresa Venix de brinquedos está revendo seu planejamento de produção de carrinhos e triciclos.\n",
    "\n",
    "O lucro líquido por unidade de carrinho e triciclo produzido é de \n",
    " e \n",
    ", respectivamente.\n",
    "\n",
    "As matérias primas e os insumos necessários para a fabricação de cada um dos produtos são terceirizados, cabendo à empresa os processos de usinagem, pintura e montagem.\n",
    "\n",
    "O processo de usinagem requer 15 minutos de mão de obra especializada por unidade de carrinho e 30 minutos por unidade de triciclo produzida.\n",
    "\n",
    "O processo de pintura requer 6 minutos de mão de obra especializada por unidade de carrinho e 45 minutos por unidade de triciclo produzida.\n",
    "\n",
    "Já o processo de montagem necessita de 6 minutos e 24 minutos para uma unidade de carrinho e de triciclo produzida, respectivamente.\n",
    "\n",
    "O tempo disponível por semana é de 36, 22 e 15 horas para os processos de usinagem, pintura e montagem, respectivamente.\n",
    "\n",
    "A empresa quer determinar quanto produzir de cada produto por semana, respeitando as limitações de recursos, de forma a maximizar o lucro líquido semanal. Formular o problema de programação linear que maximiza o lucro líquido da empresa Venix."
   ]
  },
  {
   "cell_type": "markdown",
   "id": "a8e75fd4",
   "metadata": {},
   "source": [
    "|       | carrinho | triciclo |\n",
    "|-------|----------|----------|\n",
    "| Lucro |    12    |    60    |"
   ]
  },
  {
   "cell_type": "markdown",
   "id": "f55a3345",
   "metadata": {},
   "source": [
    "|           | carrinho | triciclo | disponib. (h) |\n",
    "|-----------|----------|----------|---------------|\n",
    "| Usinagem  |   0,25   |   0,5    |      36       |\n",
    "| Pintura   |   0,1    |   0,75   |      22       |\n",
    "| Montagem  |   0,1    |   0,4    |      15       |\n"
   ]
  },
  {
   "cell_type": "markdown",
   "id": "06de820a",
   "metadata": {},
   "source": [
    "## Variáveis de decisão\n",
    "\n",
    "$x_1 \\colon \\text{quantidade de carrinhos a serem produzidos por semana}$\n",
    "\n",
    "$x_2 \\colon \\text{quantidade de triciclos a serem produzidos por semana}$\n",
    "\n",
    "## Formulação matemática\n",
    "\n",
    "$\\text{max }z = 12x_1 + 60x_2$\n",
    "\n",
    "sujeito a\n",
    "\n",
    "1. O tempo total de mão de obra para a atividade de usinagem não pode ultrapassar 36h/ semana:\n",
    "\n",
    "$0,25x_1 + 0,5x_2 \\leq 36$ \n",
    "\n",
    "2. O tempo total de mão de obra para a atividade de pintura não pode ultrapassar 22h/ semana:\n",
    "\n",
    "$0,1x_1 + 0,75x_2 \\leq 22$\n",
    "\n",
    "3. O tempo total de mão de obra para a atividade de montagem não pode ultrapassar 15h/ semana:\n",
    "\n",
    "$0,1x_1 + 0,4x_2 \\leq 15$\n",
    "\n",
    "4. As quantidades de carrinhos e triciclos não podem ser negativas:\n",
    "\n",
    "$x_1, x_2 \\geq 0$"
   ]
  },
  {
   "cell_type": "code",
   "execution_count": 3,
   "id": "69afbdc0",
   "metadata": {},
   "outputs": [],
   "source": [
    "from pyomo.environ import *"
   ]
  },
  {
   "cell_type": "code",
   "execution_count": 4,
   "id": "ae9962b1",
   "metadata": {},
   "outputs": [],
   "source": [
    " # declarando o modelo\n",
    "mod = ConcreteModel()"
   ]
  },
  {
   "cell_type": "code",
   "execution_count": 5,
   "id": "77057a6c",
   "metadata": {},
   "outputs": [],
   "source": [
    "# declarando as variáveis de decisão e dando os seus domínios\n",
    "mod.x1 = Var(within = NonNegativeReals)\n",
    "mod.x2 = Var(within = NonNegativeReals)"
   ]
  },
  {
   "cell_type": "code",
   "execution_count": 6,
   "id": "ac7ac06e",
   "metadata": {},
   "outputs": [],
   "source": [
    "#declarando a função objetivo\n",
    "mod.z = Objective(expr= 12*mod.x1 + 60*mod.x2, sense = maximize)"
   ]
  },
  {
   "cell_type": "code",
   "execution_count": 7,
   "id": "3f34bda6",
   "metadata": {},
   "outputs": [],
   "source": [
    "# declarando as retrições\n",
    "mod.restr_usinagem = Constraint(expr=0.25*mod.x1 + 0.5*mod.x2 <= 36)\n",
    "mod.restr_pintura = Constraint(expr=0.1*mod.x1 + 0.75*mod.x2 <= 22)\n",
    "mod.restr_montagem = Constraint(expr=0.1*mod.x1 + 0.4*mod.x2 <= 15)"
   ]
  },
  {
   "cell_type": "code",
   "execution_count": 8,
   "id": "e670c523",
   "metadata": {},
   "outputs": [
    {
     "name": "stdout",
     "output_type": "stream",
     "text": [
      "2 Var Declarations\n",
      "    x1 : Size=1, Index=None\n",
      "        Key  : Lower : Value : Upper : Fixed : Stale : Domain\n",
      "        None :     0 :  None :  None : False :  True : NonNegativeReals\n",
      "    x2 : Size=1, Index=None\n",
      "        Key  : Lower : Value : Upper : Fixed : Stale : Domain\n",
      "        None :     0 :  None :  None : False :  True : NonNegativeReals\n",
      "\n",
      "1 Objective Declarations\n",
      "    z : Size=1, Index=None, Active=True\n",
      "        Key  : Active : Sense    : Expression\n",
      "        None :   True : maximize : 12*x1 + 60*x2\n",
      "\n",
      "3 Constraint Declarations\n",
      "    restr_montagem : Size=1, Index=None, Active=True\n",
      "        Key  : Lower : Body            : Upper : Active\n",
      "        None :  -Inf : 0.1*x1 + 0.4*x2 :  15.0 :   True\n",
      "    restr_pintura : Size=1, Index=None, Active=True\n",
      "        Key  : Lower : Body             : Upper : Active\n",
      "        None :  -Inf : 0.1*x1 + 0.75*x2 :  22.0 :   True\n",
      "    restr_usinagem : Size=1, Index=None, Active=True\n",
      "        Key  : Lower : Body             : Upper : Active\n",
      "        None :  -Inf : 0.25*x1 + 0.5*x2 :  36.0 :   True\n",
      "\n",
      "6 Declarations: x1 x2 z restr_usinagem restr_pintura restr_montagem\n"
     ]
    }
   ],
   "source": [
    "mod.pprint() #somente por que são poucos dados"
   ]
  },
  {
   "cell_type": "code",
   "execution_count": 9,
   "id": "95d29dc1",
   "metadata": {},
   "outputs": [],
   "source": [
    "# pegando o resultado e usando o solver glpk\n",
    "resultado = SolverFactory('glpk').solve(mod) "
   ]
  },
  {
   "cell_type": "code",
   "execution_count": 10,
   "id": "6fb20dff",
   "metadata": {},
   "outputs": [
    {
     "name": "stdout",
     "output_type": "stream",
     "text": [
      "# ==========================================================\n",
      "# = Solver Results                                         =\n",
      "# ==========================================================\n",
      "# ----------------------------------------------------------\n",
      "#   Problem Information\n",
      "# ----------------------------------------------------------\n",
      "Problem: \n",
      "- Name: unknown\n",
      "  Lower bound: 2040.0\n",
      "  Upper bound: 2040.0\n",
      "  Number of objectives: 1\n",
      "  Number of constraints: 3\n",
      "  Number of variables: 2\n",
      "  Number of nonzeros: 6\n",
      "  Sense: maximize\n",
      "# ----------------------------------------------------------\n",
      "#   Solver Information\n",
      "# ----------------------------------------------------------\n",
      "Solver: \n",
      "- Status: ok\n",
      "  Termination condition: optimal\n",
      "  Statistics: \n",
      "    Branch and bound: \n",
      "      Number of bounded subproblems: 0\n",
      "      Number of created subproblems: 0\n",
      "  Error rc: 0\n",
      "  Time: 0.06363797187805176\n",
      "# ----------------------------------------------------------\n",
      "#   Solution Information\n",
      "# ----------------------------------------------------------\n",
      "Solution: \n",
      "- number of solutions: 0\n",
      "  number of solutions displayed: 0\n"
     ]
    }
   ],
   "source": [
    "resultado.write()"
   ]
  },
  {
   "cell_type": "code",
   "execution_count": 13,
   "id": "4fff5aa1",
   "metadata": {},
   "outputs": [
    {
     "name": "stdout",
     "output_type": "stream",
     "text": [
      "O resultado é x_1=70.0, x_2=20.0. Dando como lucro máximo z=R$2040.0\n"
     ]
    }
   ],
   "source": [
    "print(f\"O resultado é x_1={mod.x1()}, x_2={mod.x2()}. Dando como lucro máximo z=R${mod.z()}\")"
   ]
  },
  {
   "cell_type": "code",
   "execution_count": null,
   "id": "093677bb",
   "metadata": {},
   "outputs": [],
   "source": []
  }
 ],
 "metadata": {
  "kernelspec": {
   "display_name": "Python 3 (ipykernel)",
   "language": "python",
   "name": "python3"
  },
  "language_info": {
   "codemirror_mode": {
    "name": "ipython",
    "version": 3
   },
   "file_extension": ".py",
   "mimetype": "text/x-python",
   "name": "python",
   "nbconvert_exporter": "python",
   "pygments_lexer": "ipython3",
   "version": "3.9.16"
  }
 },
 "nbformat": 4,
 "nbformat_minor": 5
}
